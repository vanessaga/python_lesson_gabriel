{
 "cells": [
  {
   "cell_type": "code",
   "execution_count": 23,
   "metadata": {},
   "outputs": [],
   "source": [
    "dirty_isbns = [\n",
    "    \" ISBN 978-1449369415 \", \n",
    "    \"ISBN___978-1491946008 \",\n",
    "    \"ISBN 978-1593276034\"]"
   ]
  },
  {
   "cell_type": "code",
   "execution_count": 11,
   "metadata": {},
   "outputs": [
    {
     "name": "stdout",
     "output_type": "stream",
     "text": [
      "978-1449369415\n"
     ]
    }
   ],
   "source": [
    "# Funktionen definieren, eingeleitet mit def\n",
    "def clean_isbn():\n",
    "    isbn = \" ISBN 978-1449369415 \"\n",
    "    isbn = isbn.replace(\"ISBN\",\"\")\n",
    "    isbn = isbn.strip()\n",
    "    print(isbn)\n",
    "\n",
    "clean_isbn()"
   ]
  },
  {
   "cell_type": "code",
   "execution_count": 14,
   "metadata": {
    "scrolled": true
   },
   "outputs": [
    {
     "ename": "TypeError",
     "evalue": "clean_isbn() missing 1 required positional argument: 'isbn'",
     "output_type": "error",
     "traceback": [
      "\u001b[1;31m---------------------------------------------------------------------------\u001b[0m",
      "\u001b[1;31mTypeError\u001b[0m                                 Traceback (most recent call last)",
      "\u001b[1;32m<ipython-input-14-77f591a25953>\u001b[0m in \u001b[0;36m<module>\u001b[1;34m\u001b[0m\n\u001b[0;32m      5\u001b[0m     \u001b[0mprint\u001b[0m\u001b[1;33m(\u001b[0m\u001b[0misbn\u001b[0m\u001b[1;33m)\u001b[0m\u001b[1;33m\u001b[0m\u001b[1;33m\u001b[0m\u001b[0m\n\u001b[0;32m      6\u001b[0m \u001b[1;33m\u001b[0m\u001b[0m\n\u001b[1;32m----> 7\u001b[1;33m \u001b[0mclean_isbn\u001b[0m\u001b[1;33m(\u001b[0m\u001b[1;33m)\u001b[0m\u001b[1;33m\u001b[0m\u001b[1;33m\u001b[0m\u001b[0m\n\u001b[0m",
      "\u001b[1;31mTypeError\u001b[0m: clean_isbn() missing 1 required positional argument: 'isbn'"
     ]
    }
   ],
   "source": [
    "# Positionsabhängiges Argument\n",
    "def clean_isbn(isbn):\n",
    "    isbn = isbn.replace(\"ISBN\",\"\")\n",
    "    isbn = isbn.strip()\n",
    "    print(isbn)\n",
    "\n",
    "clean_isbn()"
   ]
  },
  {
   "cell_type": "code",
   "execution_count": 15,
   "metadata": {},
   "outputs": [
    {
     "name": "stdout",
     "output_type": "stream",
     "text": [
      "978-1449369415\n"
     ]
    }
   ],
   "source": [
    "# Argument definieren\n",
    "def clean_isbn(isbn):\n",
    "    isbn = isbn.replace(\"ISBN\",\"\")\n",
    "    isbn = isbn.strip()\n",
    "    print(isbn)\n",
    "\n",
    "clean_isbn(\" ISBN 978-1449369415 \")"
   ]
  },
  {
   "cell_type": "code",
   "execution_count": 19,
   "metadata": {},
   "outputs": [
    {
     "data": {
      "text/plain": [
       "'978-1449369415'"
      ]
     },
     "execution_count": 19,
     "metadata": {},
     "output_type": "execute_result"
    }
   ],
   "source": [
    "# ISBN nicht ausgeben, sondern finale ISBN zurückgeben\n",
    "def clean_isbn(isbn):\n",
    "    isbn = isbn.replace(\"ISBN\",\"\")\n",
    "    isbn = isbn.strip()\n",
    "    return isbn\n",
    "\n",
    "clean_isbn(\" ISBN 978-1449369415 \")"
   ]
  },
  {
   "cell_type": "code",
   "execution_count": 20,
   "metadata": {},
   "outputs": [],
   "source": [
    "def clean_isbn(isbn):\n",
    "    isbn = isbn.replace(\"ISBN\",\"\")\n",
    "    isbn = isbn.strip()\n",
    "    return isbn\n",
    "\n",
    "cleaned_isbn = clean_isbn(\" ISBN 978-1449369415 \")"
   ]
  },
  {
   "cell_type": "code",
   "execution_count": 21,
   "metadata": {},
   "outputs": [
    {
     "name": "stdout",
     "output_type": "stream",
     "text": [
      "Saubere ISBN:978-1449369415\n"
     ]
    }
   ],
   "source": [
    "print(\"Saubere ISBN:\" + cleaned_isbn)"
   ]
  },
  {
   "cell_type": "code",
   "execution_count": 28,
   "metadata": {},
   "outputs": [
    {
     "name": "stdout",
     "output_type": "stream",
     "text": [
      "Cleaned: 978-1449369415\n",
      "Cleaned: ___978-1491946008\n",
      "Cleaned: 978-1593276034\n"
     ]
    }
   ],
   "source": [
    "for dirty_isbn in dirty_isbns:\n",
    "    print(\"Cleaned: \" + clean_isbn(dirty_isbn))"
   ]
  },
  {
   "cell_type": "code",
   "execution_count": null,
   "metadata": {},
   "outputs": [],
   "source": []
  }
 ],
 "metadata": {
  "kernelspec": {
   "display_name": "Python 3",
   "language": "python",
   "name": "python3"
  },
  "language_info": {
   "codemirror_mode": {
    "name": "ipython",
    "version": 3
   },
   "file_extension": ".py",
   "mimetype": "text/x-python",
   "name": "python",
   "nbconvert_exporter": "python",
   "pygments_lexer": "ipython3",
   "version": "3.8.3"
  }
 },
 "nbformat": 4,
 "nbformat_minor": 4
}
